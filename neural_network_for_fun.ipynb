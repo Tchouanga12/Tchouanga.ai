{
  "cells": [
    {
      "cell_type": "markdown",
      "metadata": {
        "id": "view-in-github",
        "colab_type": "text"
      },
      "source": [
        "<a href=\"https://colab.research.google.com/github/Tchouanga12/Tchouanga.ai/blob/main/neural_network_for_fun.ipynb\" target=\"_parent\"><img src=\"https://colab.research.google.com/assets/colab-badge.svg\" alt=\"Open In Colab\"/></a>"
      ]
    },
    {
      "cell_type": "code",
      "execution_count": 5,
      "metadata": {
        "id": "zYV0t3trC0HZ"
      },
      "outputs": [],
      "source": [
        "import numpy as np\n",
        "import torch\n",
        "import matplotlib.pyplot as plt"
      ]
    },
    {
      "cell_type": "markdown",
      "source": [
        "Defining X values"
      ],
      "metadata": {
        "id": "BAWSGZ6_RPee"
      }
    },
    {
      "cell_type": "code",
      "execution_count": 6,
      "metadata": {
        "colab": {
          "base_uri": "https://localhost:8080/"
        },
        "id": "O4oZxKHd0Zby",
        "outputId": "488e9306-f03e-48e5-c05e-507d7eef7f6f"
      },
      "outputs": [
        {
          "output_type": "execute_result",
          "data": {
            "text/plain": [
              "(5, 3)"
            ]
          },
          "metadata": {},
          "execution_count": 6
        }
      ],
      "source": [
        "X =  [[1,1,0],[0,1,1],[1,0,1],[1,0,0],[0,0,1]]\n",
        "X = np.array(X)\n",
        "X.shape"
      ]
    },
    {
      "cell_type": "code",
      "source": [
        "X"
      ],
      "metadata": {
        "colab": {
          "base_uri": "https://localhost:8080/"
        },
        "id": "oFVObwLG-grn",
        "outputId": "2e9b313d-4230-4e06-f417-f64b643e650a"
      },
      "execution_count": 32,
      "outputs": [
        {
          "output_type": "execute_result",
          "data": {
            "text/plain": [
              "array([[1, 1, 0],\n",
              "       [0, 1, 1],\n",
              "       [1, 0, 1],\n",
              "       [1, 0, 0],\n",
              "       [0, 0, 1]])"
            ]
          },
          "metadata": {},
          "execution_count": 32
        }
      ]
    },
    {
      "cell_type": "code",
      "source": [
        "y = [1,0,1,1,0]\n",
        "y= np.array(y)\n",
        "y.shape"
      ],
      "metadata": {
        "id": "VYf1RyRD2C_L"
      },
      "execution_count": null,
      "outputs": []
    },
    {
      "cell_type": "code",
      "source": [
        "y = np.expand_dims(y, axis = 1)"
      ],
      "metadata": {
        "id": "d7ZeA3dT-i_Q"
      },
      "execution_count": 105,
      "outputs": []
    },
    {
      "cell_type": "markdown",
      "source": [
        "Defining the weight and bias values"
      ],
      "metadata": {
        "id": "BpI6ngf03HhE"
      }
    },
    {
      "cell_type": "code",
      "source": [
        "class FranckNet:\n",
        "  \"\"\"\n",
        "  Neural net logistic regression classification using \n",
        "  binary cross-entropy as loss calculation.\n",
        "  \"\"\"\n",
        "\n",
        "  def __init__(self,X,y,learning_rate,num_epoch):\n",
        "    \"\"\"\n",
        "    Parameter initialization for the neural\n",
        "    network proper functioning.\n",
        "    \"\"\"\n",
        "    self.w = np.random.normal(0,0.01,(X.shape[1],1))\n",
        "    self.b = np.zeros(1)\n",
        "    self.m = X.shape[0]\n",
        "    self.X = X\n",
        "    self.y = y\n",
        "    self.lr = learning_rate\n",
        "    self.n = num_epoch\n",
        "\n",
        "  def sigmoid(self,z):\n",
        "    \"\"\"\n",
        "    function operation to gather all output from\n",
        "    the neural computational operation to fall\n",
        "    within the range of 0 to 1.\n",
        "    \"\"\"\n",
        "    return 1/(1+np.exp(-z))\n",
        "\n",
        "  def net(self,X,w,b):\n",
        "    \"\"\"\n",
        "    Neural linear computational operation between input data,\n",
        "    the weight and the bias\n",
        "    \"\"\"\n",
        "    return sigmoid(np.dot(X,w)+b)\n",
        "\n",
        "  def binary_cross_entropy(self,y_hat):\n",
        "    \"\"\"\n",
        "    loss calculation. The use of binary cross entropy due to the \n",
        "    \"\"\"\n",
        "    return -1/self.X.shape[0]*(np.sum((self.y*np.log(y_hat))+((1-self.y)*np.log(1-y_hat))))\n",
        "\n",
        "  def forward_pass(self,w,b,X,y):\n",
        "\n",
        "    y_hat = self.net(self.X,self.w,self.b)\n",
        "    loss = self.binary_cross_entropy(y_hat,self.y)\n",
        "\n",
        "    dw = np.dot(self.X.T,(y_hat-y))\n",
        "    db = 1/self.m*(np.sum(y_hat-self.y))\n",
        "\n",
        "    return dw, db, loss\n",
        "\n",
        "  def optimize(self):\n",
        "    losses = []\n",
        "    for i in range(self.n):\n",
        "      dw, db, loss = forward_pass(self.w,self.b,self.X,self.y)\n",
        "      \n",
        "      w = self.w - dw*self.lr\n",
        "      b = self.b - db*self.lr\n",
        "\n",
        "      if i%5 == 0:\n",
        "        print('loss after iteration %i: %f' %(i,loss))\n",
        "      losses.append(loss)\n",
        "    params = {'w':w, 'b':b}\n",
        "\n",
        "    grads = {'dw':dw, 'db':db}\n",
        "\n",
        "    return losses, params, grads\n",
        "\n",
        "  def predict(self):\n",
        "\n",
        "    y_pred = np.zeros(self.y.shape)\n",
        "    y_hat = self.net()\n",
        "\n",
        "    for i in range(y_hat.shape[0]):\n",
        "      y_pred[i] = 1 if y_hat[i]>0.5 else 0\n",
        "\n",
        "    return y_pred\n",
        "\n",
        "  def train(self):\n",
        "    losses, params, grads = self.optimize()\n",
        "\n",
        "    self.w = params['w']\n",
        "    self.b = params['b']\n",
        "\n",
        "    y_pred = self.predict()\n",
        "\n",
        "    print(f'Accuracy: {100 - np.mean(np.abs(y_pred -y))*100}%')\n",
        "\n",
        "    return {'losses':losses, 'y_pred':y_pred, 'w':w, 'b':b, 'learning_rate':self.lr, 'epochs':self.n}"
      ],
      "metadata": {
        "id": "LHBp2OphbMKJ"
      },
      "execution_count": null,
      "outputs": []
    },
    {
      "cell_type": "code",
      "source": [
        "w = np.random.normal(0,0.01,(X.shape[1],1))\n",
        "b = np.zeros(1)"
      ],
      "metadata": {
        "id": "vvzV8wuW26oR"
      },
      "execution_count": 12,
      "outputs": []
    },
    {
      "cell_type": "code",
      "source": [
        "w.shape"
      ],
      "metadata": {
        "colab": {
          "base_uri": "https://localhost:8080/"
        },
        "id": "CLqVF4T3DCoP",
        "outputId": "9b323eeb-1da0-41f7-9e56-3f6819010923"
      },
      "execution_count": 45,
      "outputs": [
        {
          "output_type": "execute_result",
          "data": {
            "text/plain": [
              "(3, 1)"
            ]
          },
          "metadata": {},
          "execution_count": 45
        }
      ]
    },
    {
      "cell_type": "markdown",
      "source": [
        "Defining the linear regression operation "
      ],
      "metadata": {
        "id": "5A1zv4TW3wmB"
      }
    },
    {
      "cell_type": "code",
      "source": [
        "def sigmoid(z):\n",
        "  return 1/(1+np.exp(-z))"
      ],
      "metadata": {
        "id": "96o8RekuDMVj"
      },
      "execution_count": 83,
      "outputs": []
    },
    {
      "cell_type": "markdown",
      "source": [
        "Defining neural operation"
      ],
      "metadata": {
        "id": "gizpu90iRIku"
      }
    },
    {
      "cell_type": "code",
      "source": [
        "def net(X,w,b):\n",
        "  return sigmoid(np.dot(X,w)+b)"
      ],
      "metadata": {
        "id": "rt9R50cR3oRX"
      },
      "execution_count": 84,
      "outputs": []
    },
    {
      "cell_type": "markdown",
      "source": [
        "Defining loss function to calculate error rate"
      ],
      "metadata": {
        "id": "HA2mOlBpQ1JS"
      }
    },
    {
      "cell_type": "code",
      "source": [
        "def binary_cross_entropy(y_hat,y):\n",
        "  return -1/X.shape[0]*(np.sum((y*np.log(y_hat))+((1-y)*np.log(1-y_hat))))"
      ],
      "metadata": {
        "id": "pP503IOK_l8P"
      },
      "execution_count": 79,
      "outputs": []
    },
    {
      "cell_type": "code",
      "source": [
        "def forward_pass(w,b,X,y):\n",
        "\n",
        "  m = X.shape[0]\n",
        "  y_hat = net(X,w,b)\n",
        "  loss = binary_cross_entropy(y_hat,y)\n",
        "\n",
        "  dw = np.dot(X.T,(y_hat-y))\n",
        "  db = 1/m*(np.sum(y_hat-y))\n",
        "\n",
        "  return dw, db, loss"
      ],
      "metadata": {
        "id": "7C61ybcLGHyf"
      },
      "execution_count": 124,
      "outputs": []
    },
    {
      "cell_type": "code",
      "source": [
        "def optimize(learning_rate,num_epoch,w,b,X,y):\n",
        "  losses = []\n",
        "  for i in range(num_epoch):\n",
        "    dw, db, loss = forward_pass(w,b,X,y)\n",
        "    \n",
        "    w = w - dw*learning_rate\n",
        "    b = b - db*learning_rate\n",
        "    y_pred = predict(w,b,X)\n",
        "  \n",
        "    if i%5 == 0:\n",
        "      print('loss after iteration %i: %f' %(i,loss))\n",
        "    losses.append(loss)\n",
        "  params = {'w':w, 'b':b}\n",
        "\n",
        "  grads = {'dw':dw, 'db':db}\n",
        "\n",
        "\n",
        "\n",
        "  return losses, params, grads"
      ],
      "metadata": {
        "id": "Jz9A2IxhG-W4"
      },
      "execution_count": 218,
      "outputs": []
    },
    {
      "cell_type": "code",
      "source": [
        "losses, params, grads = optimize(0.3,10,w,b,X,y)"
      ],
      "metadata": {
        "colab": {
          "base_uri": "https://localhost:8080/"
        },
        "id": "4eHOfhDJETd_",
        "outputId": "235c67a4-6a1d-43c0-c36b-723345e4f410"
      },
      "execution_count": 219,
      "outputs": [
        {
          "output_type": "stream",
          "name": "stdout",
          "text": [
            "loss after iteration 0: 0.698016\n",
            "loss after iteration 5: 0.304087\n"
          ]
        }
      ]
    },
    {
      "cell_type": "code",
      "source": [
        "plt.plot(losses, label=['loss'])\n",
        "plt.title('Loss graph')\n",
        "plt.xlabel('epochs')\n",
        "plt.grid(linestyle='--',linewidth=0.5)\n",
        "plt.show()"
      ],
      "metadata": {
        "colab": {
          "base_uri": "https://localhost:8080/",
          "height": 295
        },
        "id": "scWxo2t5Nt0N",
        "outputId": "9572cdad-6969-426e-ad17-1b310850efde"
      },
      "execution_count": 215,
      "outputs": [
        {
          "output_type": "display_data",
          "data": {
            "text/plain": [
              "<Figure size 432x288 with 1 Axes>"
            ],
            "image/png": "[encoded data removed]"
          },
          "metadata": {
            "needs_background": "light"
          }
        }
      ]
    },
    {
      "cell_type": "code",
      "source": [
        "def predict(w,b,X):\n",
        "  y_pred = np.zeros(y.shape)\n",
        "  y_hat = net(X,w,b)\n",
        "\n",
        "  for i in range(y_hat.shape[0]):\n",
        "    y_pred[i] = 1 if y_hat[i]>0.5 else 0\n",
        "  return y_pred"
      ],
      "metadata": {
        "id": "JzO1n_rSVaX5"
      },
      "execution_count": 187,
      "outputs": []
    },
    {
      "cell_type": "code",
      "source": [
        "def train(learning_rate,num_epoch,w,b,X,y):\n",
        "  losses, params, grads = optimize(learning_rate,num_epoch,w,b,X,y)\n",
        "\n",
        "  w = params['w']\n",
        "  b = params['b']\n",
        "\n",
        "  y_pred = predict(w,b,X)\n",
        "\n",
        "  print(f'Accuracy: {100 - np.mean(np.abs(y_pred -y))*100}%')\n",
        "\n",
        "  return {'losses':losses, 'y_pred':y_pred, 'y':y, 'w':w, 'b':b, 'learning_rate':learning_rate, 'epochs':num_epoch}\n",
        "\n"
      ],
      "metadata": {
        "id": "Il5liI7WWpiW"
      },
      "execution_count": 225,
      "outputs": []
    },
    {
      "cell_type": "code",
      "source": [
        "train(0.3,10,w,b,X,y)"
      ],
      "metadata": {
        "colab": {
          "base_uri": "https://localhost:8080/"
        },
        "id": "yeIMww40gPnf",
        "outputId": "8c23a315-9e72-4538-c82d-431b50ab52f5"
      },
      "execution_count": 226,
      "outputs": [
        {
          "output_type": "stream",
          "name": "stdout",
          "text": [
            "loss after iteration 0: 0.698016\n",
            "loss after iteration 5: 0.304087\n",
            "Accuracy: 100.0%\n"
          ]
        },
        {
          "output_type": "execute_result",
          "data": {
            "text/plain": [
              "{'b': array([0.04934515]),\n",
              " 'epochs': 10,\n",
              " 'learning_rate': 0.3,\n",
              " 'losses': [0.6980161129407105,\n",
              "  0.5578740329851817,\n",
              "  0.46357757650248027,\n",
              "  0.3955036065200308,\n",
              "  0.34410506028287796,\n",
              "  0.304086686343966,\n",
              "  0.272175580149628,\n",
              "  0.24621605178356665,\n",
              "  0.224732229893992,\n",
              "  0.20668505868534162],\n",
              " 'w': array([[ 2.35809025],\n",
              "        [-0.30649885],\n",
              "        [-1.15655919]]),\n",
              " 'y': array([[1],\n",
              "        [0],\n",
              "        [1],\n",
              "        [1],\n",
              "        [0]]),\n",
              " 'y_pred': array([[1.],\n",
              "        [0.],\n",
              "        [1.],\n",
              "        [1.],\n",
              "        [0.]])}"
            ]
          },
          "metadata": {},
          "execution_count": 226
        }
      ]
    },
    {
      "cell_type": "markdown",
      "source": [
        "Defining the validation set"
      ],
      "metadata": {
        "id": "uwVcXt7QU5uT"
      }
    },
    {
      "cell_type": "code",
      "source": [
        "X_val = np.round(np.random.rand(*X.shape))"
      ],
      "metadata": {
        "id": "9pU3OCx5ALl5"
      },
      "execution_count": 162,
      "outputs": []
    }
  ],
  "metadata": {
    "colab": {
      "name": "neural-network-for-fun.ipynb",
      "provenance": [],
      "authorship_tag": "ABX9TyOudofOFU0KNSlzP1KsusS9",
      "include_colab_link": true
    },
    "kernelspec": {
      "display_name": "Python 3",
      "name": "python3"
    },
    "language_info": {
      "name": "python"
    }
  },
  "nbformat": 4,
  "nbformat_minor": 0
}